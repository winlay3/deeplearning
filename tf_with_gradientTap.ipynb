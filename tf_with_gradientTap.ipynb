{
 "cells": [
  {
   "cell_type": "code",
   "execution_count": 1,
   "id": "122eb66b",
   "metadata": {},
   "outputs": [
    {
     "name": "stdout",
     "output_type": "stream",
     "text": [
      "5\n"
     ]
    },
    {
     "data": {
      "image/png": "[encoded data removed]",
      "text/plain": [
       "<Figure size 640x480 with 1 Axes>"
      ]
     },
     "metadata": {},
     "output_type": "display_data"
    }
   ],
   "source": [
    "import tensorflow as tf\n",
    "import matplotlib.pyplot as plt\n",
    "# Load and preprocess the MNIST dataset\n",
    "(x_train, y_train), (x_test, y_test) = tf.keras.datasets.mnist.load_data()\n",
    "x_train, x_test = x_train / 255.0, x_test / 255.0  # Normalize to [0, 1]\n",
    "\n",
    "index =0\n",
    "plt.imshow(x_train[0])\n",
    "print(y_train[index])\n"
   ]
  },
  {
   "cell_type": "code",
   "execution_count": 2,
   "id": "4fd25986",
   "metadata": {},
   "outputs": [
    {
     "name": "stdout",
     "output_type": "stream",
     "text": [
      "[0. 0. 0. 0. 0. 1. 0. 0. 0. 0.]\n"
     ]
    }
   ],
   "source": [
    "x_train = x_train.reshape(-1, 28 * 28)  # Flatten images\n",
    "x_test = x_test.reshape(-1, 28 * 28)\n",
    "\n",
    "# Convert labels to one-hot encoding\n",
    "y_train_onehot = tf.keras.utils.to_categorical(y_train, num_classes=10)\n",
    "y_test_onehot = tf.keras.utils.to_categorical(y_test, num_classes=10)\n",
    "\n",
    "print(y_train_onehot[index])"
   ]
  },
  {
   "cell_type": "code",
   "execution_count": 3,
   "id": "06db3c05",
   "metadata": {},
   "outputs": [
    {
     "data": {
      "text/plain": [
       "(60000, 784)"
      ]
     },
     "execution_count": 3,
     "metadata": {},
     "output_type": "execute_result"
    }
   ],
   "source": [
    "x_train.shape"
   ]
  },
  {
   "cell_type": "code",
   "execution_count": 10,
   "id": "3d0cb798",
   "metadata": {},
   "outputs": [],
   "source": [
    "class SimpleNN(tf.keras.Model):\n",
    "    def __init__(self):\n",
    "        super().__init__()\n",
    "        self.flatten = tf.keras.layers.Flatten()\n",
    "        self.d1 = tf.keras.layers.Dense(128,activation='relu',input_shape =(784,))\n",
    "        self.d2 = tf.keras.layers.Dense(10,activation=\"softmax\")\n",
    "\n",
    "    def call(self,x):\n",
    "        x=self.flatten(x)\n",
    "        x = self.d1(x)\n",
    "        return self.d2(x)"
   ]
  },
  {
   "cell_type": "code",
   "execution_count": 5,
   "id": "5c281ac2",
   "metadata": {},
   "outputs": [
    {
     "name": "stdout",
     "output_type": "stream",
     "text": [
      "Model: \"simple_nn\"\n",
      "_________________________________________________________________\n",
      " Layer (type)                Output Shape              Param #   \n",
      "=================================================================\n",
      " dense (Dense)               multiple                  100480    \n",
      "                                                                 \n",
      " dense_1 (Dense)             multiple                  1290      \n",
      "                                                                 \n",
      "=================================================================\n",
      "Total params: 101,770\n",
      "Trainable params: 101,770\n",
      "Non-trainable params: 0\n",
      "_________________________________________________________________\n"
     ]
    }
   ],
   "source": [
    "model = SimpleNN()\n",
    "optimizer = tf.keras.optimizers.Adam(learning_rate=0.001)\n",
    "loss_fn = tf.keras.losses.CategoricalCrossentropy()\n",
    "model.build(input_shape=(None, 784))\n",
    "model.compile(loss=loss_fn,\n",
    "              optimizer = optimizer,\n",
    "              metrics = ['accuracy'])\n",
    "\n",
    "model.summary()\n"
   ]
  },
  {
   "cell_type": "code",
   "execution_count": 6,
   "id": "4f092a56",
   "metadata": {},
   "outputs": [
    {
     "name": "stdout",
     "output_type": "stream",
     "text": [
      "313/313 [==============================] - 4s 3ms/step\n"
     ]
    },
    {
     "data": {
      "text/plain": [
       "array([[0.07738132, 0.09692255, 0.11516624, ..., 0.1154205 , 0.06485283,\n",
       "        0.09201965],\n",
       "       [0.04631735, 0.08118603, 0.09869036, ..., 0.11594068, 0.15084794,\n",
       "        0.1076143 ],\n",
       "       [0.06845242, 0.08485422, 0.11741155, ..., 0.10246221, 0.13483573,\n",
       "        0.11375238],\n",
       "       ...,\n",
       "       [0.05391633, 0.10345846, 0.09073649, ..., 0.10930739, 0.1436524 ,\n",
       "        0.11861084],\n",
       "       [0.03643187, 0.08268881, 0.10714992, ..., 0.10198992, 0.12290382,\n",
       "        0.19157721],\n",
       "       [0.03585284, 0.08986481, 0.10418092, ..., 0.05792069, 0.20329668,\n",
       "        0.08886363]], dtype=float32)"
      ]
     },
     "execution_count": 6,
     "metadata": {},
     "output_type": "execute_result"
    }
   ],
   "source": [
    "model.predict(x_test)"
   ]
  },
  {
   "cell_type": "code",
   "execution_count": 7,
   "id": "a375943a",
   "metadata": {},
   "outputs": [
    {
     "data": {
      "text/plain": [
       "1875"
      ]
     },
     "execution_count": 7,
     "metadata": {},
     "output_type": "execute_result"
    }
   ],
   "source": [
    "epochs =3\n",
    "batch_size = 32\n",
    "step_per_epoch = len(x_train)//batch_size\n",
    "step_per_epoch"
   ]
  },
  {
   "cell_type": "code",
   "execution_count": 8,
   "id": "d1748e6b",
   "metadata": {},
   "outputs": [
    {
     "data": {
      "text/plain": [
       "[<tf.Variable 'dense/kernel:0' shape=(784, 128) dtype=float32, numpy=\n",
       " array([[-0.06051702, -0.03530392,  0.01647215, ...,  0.01651328,\n",
       "          0.04383297,  0.03099284],\n",
       "        [-0.08098439,  0.07963922,  0.01721469, ...,  0.07225131,\n",
       "         -0.02122924, -0.02806755],\n",
       "        [ 0.05351258, -0.01510828,  0.02773089, ...,  0.0244948 ,\n",
       "         -0.04075489, -0.06076322],\n",
       "        ...,\n",
       "        [-0.06276499, -0.03306103, -0.04761867, ...,  0.05501612,\n",
       "          0.03466655,  0.00785106],\n",
       "        [ 0.05325333, -0.06530016, -0.06814639, ...,  0.01842924,\n",
       "         -0.04522474,  0.00510475],\n",
       "        [ 0.08091704, -0.02044211, -0.07584224, ..., -0.00351907,\n",
       "          0.030842  , -0.05958672]], dtype=float32)>,\n",
       " <tf.Variable 'dense/bias:0' shape=(128,) dtype=float32, numpy=\n",
       " array([0., 0., 0., 0., 0., 0., 0., 0., 0., 0., 0., 0., 0., 0., 0., 0., 0.,\n",
       "        0., 0., 0., 0., 0., 0., 0., 0., 0., 0., 0., 0., 0., 0., 0., 0., 0.,\n",
       "        0., 0., 0., 0., 0., 0., 0., 0., 0., 0., 0., 0., 0., 0., 0., 0., 0.,\n",
       "        0., 0., 0., 0., 0., 0., 0., 0., 0., 0., 0., 0., 0., 0., 0., 0., 0.,\n",
       "        0., 0., 0., 0., 0., 0., 0., 0., 0., 0., 0., 0., 0., 0., 0., 0., 0.,\n",
       "        0., 0., 0., 0., 0., 0., 0., 0., 0., 0., 0., 0., 0., 0., 0., 0., 0.,\n",
       "        0., 0., 0., 0., 0., 0., 0., 0., 0., 0., 0., 0., 0., 0., 0., 0., 0.,\n",
       "        0., 0., 0., 0., 0., 0., 0., 0., 0.], dtype=float32)>,\n",
       " <tf.Variable 'dense_1/kernel:0' shape=(128, 10) dtype=float32, numpy=\n",
       " array([[-0.03132446,  0.07347678,  0.17044573, ..., -0.05005032,\n",
       "         -0.14346108, -0.13160978],\n",
       "        [-0.17109302, -0.00182982,  0.12032084, ...,  0.1246096 ,\n",
       "         -0.1486423 ,  0.05662595],\n",
       "        [-0.20673317,  0.12041338,  0.1425534 , ..., -0.19049686,\n",
       "          0.01814014,  0.14732648],\n",
       "        ...,\n",
       "        [-0.02114469,  0.02227412, -0.16453075, ...,  0.20598377,\n",
       "          0.04808275, -0.03172356],\n",
       "        [ 0.02460824, -0.15671073, -0.174725  , ..., -0.03043517,\n",
       "         -0.15541643, -0.10632226],\n",
       "        [ 0.0400162 , -0.10626007, -0.12181082, ...,  0.16392435,\n",
       "          0.12018274,  0.08119388]], dtype=float32)>,\n",
       " <tf.Variable 'dense_1/bias:0' shape=(10,) dtype=float32, numpy=array([0., 0., 0., 0., 0., 0., 0., 0., 0., 0.], dtype=float32)>]"
      ]
     },
     "execution_count": 8,
     "metadata": {},
     "output_type": "execute_result"
    }
   ],
   "source": [
    "model.trainable_variables"
   ]
  },
  {
   "cell_type": "code",
   "execution_count": 11,
   "id": "776ae694",
   "metadata": {},
   "outputs": [
    {
     "name": "stdout",
     "output_type": "stream",
     "text": [
      "Epoch 1/10\n",
      "3750/3750 [==============================] - 8s 2ms/step - loss: 0.0131 - accuracy: 0.9956 - val_loss: 0.0838 - val_accuracy: 0.9803\n",
      "Epoch 2/10\n",
      "3750/3750 [==============================] - 16s 4ms/step - loss: 0.0135 - accuracy: 0.9955 - val_loss: 0.1059 - val_accuracy: 0.9776\n",
      "Epoch 3/10\n",
      "3750/3750 [==============================] - 37s 10ms/step - loss: 0.0104 - accuracy: 0.9966 - val_loss: 0.0978 - val_accuracy: 0.9777\n",
      "Epoch 4/10\n",
      "3750/3750 [==============================] - 15s 4ms/step - loss: 0.0102 - accuracy: 0.9965 - val_loss: 0.1153 - val_accuracy: 0.9772\n",
      "Epoch 5/10\n",
      "3750/3750 [==============================] - 32s 9ms/step - loss: 0.0089 - accuracy: 0.9969 - val_loss: 0.1171 - val_accuracy: 0.9763\n",
      "Epoch 6/10\n",
      "3750/3750 [==============================] - 38s 10ms/step - loss: 0.0084 - accuracy: 0.9972 - val_loss: 0.1052 - val_accuracy: 0.9791\n",
      "Epoch 7/10\n",
      "3750/3750 [==============================] - 42s 11ms/step - loss: 0.0081 - accuracy: 0.9973 - val_loss: 0.1151 - val_accuracy: 0.9801\n",
      "Epoch 8/10\n",
      "3750/3750 [==============================] - 24s 7ms/step - loss: 0.0073 - accuracy: 0.9977 - val_loss: 0.1143 - val_accuracy: 0.9801\n",
      "Epoch 9/10\n",
      "3750/3750 [==============================] - 9s 2ms/step - loss: 0.0070 - accuracy: 0.9977 - val_loss: 0.1268 - val_accuracy: 0.9791\n",
      "Epoch 10/10\n",
      "3750/3750 [==============================] - 8s 2ms/step - loss: 0.0080 - accuracy: 0.9974 - val_loss: 0.1108 - val_accuracy: 0.9806\n"
     ]
    }
   ],
   "source": [
    "history = model.fit(\n",
    "    x=x_train,\n",
    "    y= y_train_onehot,\n",
    "    validation_data = (x_test,y_test_onehot),\n",
    "    batch_size = 16,\n",
    "    epochs = 10,\n",
    "    verbose =1\n",
    ")"
   ]
  },
  {
   "cell_type": "code",
   "execution_count": 12,
   "id": "cf60af23",
   "metadata": {},
   "outputs": [
    {
     "name": "stdout",
     "output_type": "stream",
     "text": [
      "Test Loss: 0.1108, Test Accuracy: 0.9806\n"
     ]
    }
   ],
   "source": [
    "# Evaluate the model\n",
    "test_loss = loss_fn(y_test_onehot, model(x_test))\n",
    "test_accuracy = tf.keras.metrics.categorical_accuracy(y_test_onehot, model(x_test))\n",
    "print(f\"Test Loss: {test_loss.numpy():.4f}, Test Accuracy: {tf.reduce_mean(test_accuracy).numpy():.4f}\")"
   ]
  }
 ],
 "metadata": {
  "kernelspec": {
   "display_name": "ml",
   "language": "python",
   "name": "python3"
  },
  "language_info": {
   "codemirror_mode": {
    "name": "ipython",
    "version": 3
   },
   "file_extension": ".py",
   "mimetype": "text/x-python",
   "name": "python",
   "nbconvert_exporter": "python",
   "pygments_lexer": "ipython3",
   "version": "3.10.18"
  }
 },
 "nbformat": 4,
 "nbformat_minor": 5
}
